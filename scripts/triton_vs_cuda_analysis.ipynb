{
 "cells": [
  {
   "cell_type": "markdown",
   "id": "4830c3c5",
   "metadata": {},
   "source": [
    "# Comparative Performance Analysis: Triton vs. CUDA for GPU Kernels\n",
    "\n",
    "## Abstract\n",
    "\n",
    "This notebook presents a detailed comparative analysis of the performance characteristics of various GPU kernel implementations using two programming models: CUDA and Triton. The analysis examines execution time, memory usage, and computational efficiency across different workloads, including Finite State Automata (FSA), vector addition, and matrix multiplication, to evaluate the trade-offs between the low-level control offered by CUDA and the higher-level abstractions provided by Triton.\n",
    "\n",
    "## Introduction\n",
    "\n",
    "Parallelization on GPUs can significantly accelerate various computational tasks. This study compares two approaches to GPU implementation across different kernel types:\n",
    "\n",
    "1.  **CUDA**: A low-level programming model offering fine-grained control over GPU execution.\n",
    "2.  **Triton**: A higher-level programming model designed to simplify GPU programming.\n",
    "\n",
    "The benchmarks evaluate performance across Finite State Automata (FSA) matching, vector addition (vecadd), and matrix multiplication (matmul) to provide insights into which approach is more suitable for different types of GPU workloads.\n",
    "\n",
    "## Research Methodology\n",
    "\n",
    "Our approach involves analyzing benchmark data collected from equivalent implementations of algorithms in both CUDA and Triton. The benchmark data includes measurements of:\n",
    "\n",
    "- Execution time (milliseconds)\n",
    "- Kernel execution time (milliseconds)\n",
    "- Memory transfer time (milliseconds)\n",
    "- Memory usage (bytes)\n",
    "- GPU utilization (percentage)\n",
    "- Workload-specific parameters (e.g., regex patterns for FSA, matrix dimensions for matmul)\n",
    "\n",
    "We analyze these metrics across multiple test cases and benchmark types to evaluate performance consistency, optimization potential, and suitability for different computational patterns."
   ]
  },
  {
   "cell_type": "markdown",
   "id": "79a482d2",
   "metadata": {},
   "source": [
    "## Data Loading and Preparation\n",
    "\n",
    "First, we import the necessary libraries and load the most recent benchmark data for all available types (FSA, vecadd, matmul, etc.) from both CUDA and Triton implementations found in the `../results` directory."
   ]
  },
  {
   "cell_type": "code",
   "execution_count": 1,
   "id": "c4ed9ce3",
   "metadata": {},
   "outputs": [],
   "source": [
    "# Import required libraries\n",
    "import os\n",
    "import pandas as pd\n",
    "import numpy as np\n",
    "import matplotlib.pyplot as plt\n",
    "import seaborn as sns\n",
    "from pathlib import Path\n",
    "import warnings\n",
    "from typing import Tuple, Dict, Any, List\n",
    "import re\n",
    "from collections import defaultdict\n",
    "\n",
    "# Suppress pandas warnings\n",
    "warnings.filterwarnings(\"ignore\", category=UserWarning, module=\"pandas\")\n",
    "# Suppress specific Matplotlib warnings about figure layout\n",
    "warnings.filterwarnings(\"ignore\", message=\"FigureCanvasAgg is non-interactive, and thus cannot be shown\", module=\"matplotlib\")\n",
    "\n",
    "\n",
    "# Configure visualization settings\n",
    "plt.style.use('ggplot')\n",
    "sns.set_palette(\"Set2\")\n",
    "plt.rcParams['figure.figsize'] = (14, 10)\n",
    "plt.rcParams['font.size'] = 12"
   ]
  },
  {
   "cell_type": "code",
   "execution_count": 2,
   "id": "b968498c",
   "metadata": {},
   "outputs": [],
   "source": [
    "def load_benchmark_data() -> pd.DataFrame:\n",
    "    \"\"\"\n",
    "    Load benchmark data from the most recent CSV files for all benchmark types\n",
    "    (e.g., fsa, vecadd, matmul) for both CUDA and Triton implementations.\n",
    "\n",
    "    Returns:\n",
    "        A single DataFrame containing combined data from all latest benchmarks.\n",
    "    \"\"\"\n",
    "    results_dir = Path('../results')\n",
    "    all_files = [f for f in os.listdir(results_dir) if f.endswith(\".csv\") and '_benchmark_' in f]\n",
    "\n",
    "    latest_files = defaultdict(lambda: {'timestamp': '', 'path': None})\n",
    "\n",
    "    # Regex to extract implementation, benchmark type, and timestamp\n",
    "    # Example: cuda_fsa_benchmark_20250407_093923.csv -> ('cuda', 'fsa', '20250407_093923')\n",
    "    # Example: triton_vecadd_benchmark_20250407_093930.csv -> ('triton', 'vecadd', '20250407_093930')\n",
    "    pattern = re.compile(r\"^(cuda|triton)_([a-zA-Z0-9]+)_benchmark_(\\d{8}_\\d{6})\\.csv$\")\n",
    "\n",
    "    for filename in all_files:\n",
    "        match = pattern.match(filename)\n",
    "        if match:\n",
    "            implementation, benchmark_type, timestamp = match.groups()\n",
    "            key = (implementation, benchmark_type)\n",
    "            \n",
    "            if timestamp > latest_files[key]['timestamp']:\n",
    "                latest_files[key]['timestamp'] = timestamp\n",
    "                latest_files[key]['path'] = results_dir / filename\n",
    "\n",
    "    loaded_data = []\n",
    "    if not latest_files:\n",
    "        raise FileNotFoundError(\"No valid benchmark CSV files found in ../results\")\n",
    "\n",
    "    for (implementation, benchmark_type), file_info in latest_files.items():\n",
    "        if file_info['path']:\n",
    "            print(f\"Loading {implementation} {benchmark_type} data from: {file_info['path']}\")\n",
    "            try:\n",
    "                df = pd.read_csv(file_info['path'], delimiter=';')\n",
    "                df['implementation'] = implementation.upper() # Standardize to CUDA/Triton\n",
    "                df['benchmark_type'] = benchmark_type\n",
    "                # Handle potential inconsistencies in column names (e.g., some might miss 'technique')\n",
    "                if 'technique' not in df.columns and benchmark_type == 'fsa':\n",
    "                     # Add default if missing for FSA, others might not need it\n",
    "                     df['technique'] = 'Unknown'\n",
    "                loaded_data.append(df)\n",
    "            except Exception as e:\n",
    "                print(f\"Warning: Could not load or process {file_info['path']}. Error: {e}\")\n",
    "        else:\n",
    "             print(f\"Warning: No file found for {implementation} {benchmark_type}\")\n",
    "\n",
    "\n",
    "    if not loaded_data:\n",
    "        raise ValueError(\"No benchmark data could be loaded.\")\n",
    "\n",
    "    # Concatenate all dataframes, handling potentially different columns\n",
    "    combined_df = pd.concat(loaded_data, ignore_index=True, sort=False)\n",
    "\n",
    "    return combined_df"
   ]
  },
  {
   "cell_type": "code",
   "execution_count": 3,
   "id": "37ce3f36",
   "metadata": {},
   "outputs": [
    {
     "name": "stdout",
     "output_type": "stream",
     "text": [
      "Loading triton matmul data from: ../results/triton_matmul_benchmark_20250407_093930.csv\n",
      "Loading cuda vecadd data from: ../results/cuda_vecadd_benchmark_20250407_093928.csv\n",
      "Loading cuda matmul data from: ../results/cuda_matmul_benchmark_20250407_093928.csv\n",
      "Loading triton vecadd data from: ../results/triton_vecadd_benchmark_20250407_093930.csv\n",
      "\n",
      "Combined Benchmark Sample (Raw):\n"
     ]
    },
    {
     "data": {
      "text/html": [
       "<div>\n",
       "<style scoped>\n",
       "    .dataframe tbody tr th:only-of-type {\n",
       "        vertical-align: middle;\n",
       "    }\n",
       "\n",
       "    .dataframe tbody tr th {\n",
       "        vertical-align: top;\n",
       "    }\n",
       "\n",
       "    .dataframe thead th {\n",
       "        text-align: right;\n",
       "    }\n",
       "</style>\n",
       "<table border=\"1\" class=\"dataframe\">\n",
       "  <thead>\n",
       "    <tr style=\"text-align: right;\">\n",
       "      <th></th>\n",
       "      <th>implementation</th>\n",
       "      <th>operation</th>\n",
       "      <th>M</th>\n",
       "      <th>N</th>\n",
       "      <th>K</th>\n",
       "      <th>execution_time_ms</th>\n",
       "      <th>kernel_time_ms</th>\n",
       "      <th>mem_transfer_time_ms</th>\n",
       "      <th>memory_used_bytes</th>\n",
       "      <th>gpu_util_percent</th>\n",
       "      <th>benchmark_type</th>\n",
       "    </tr>\n",
       "  </thead>\n",
       "  <tbody>\n",
       "    <tr>\n",
       "      <th>0</th>\n",
       "      <td>TRITON</td>\n",
       "      <td>matmul</td>\n",
       "      <td>2048</td>\n",
       "      <td>2048</td>\n",
       "      <td>2048</td>\n",
       "      <td>9.132385</td>\n",
       "      <td>2.999783</td>\n",
       "      <td>6.132603</td>\n",
       "      <td>58851328</td>\n",
       "      <td>1.0</td>\n",
       "      <td>matmul</td>\n",
       "    </tr>\n",
       "    <tr>\n",
       "      <th>1</th>\n",
       "      <td>CUDA</td>\n",
       "      <td>vecadd</td>\n",
       "      <td>10000000</td>\n",
       "      <td>1</td>\n",
       "      <td>1</td>\n",
       "      <td>28.045000</td>\n",
       "      <td>0.344616</td>\n",
       "      <td>25.996400</td>\n",
       "      <td>120000000</td>\n",
       "      <td>0.0</td>\n",
       "      <td>vecadd</td>\n",
       "    </tr>\n",
       "    <tr>\n",
       "      <th>2</th>\n",
       "      <td>CUDA</td>\n",
       "      <td>matmul</td>\n",
       "      <td>2048</td>\n",
       "      <td>2048</td>\n",
       "      <td>2048</td>\n",
       "      <td>21.055000</td>\n",
       "      <td>9.560350</td>\n",
       "      <td>10.755300</td>\n",
       "      <td>50331648</td>\n",
       "      <td>0.0</td>\n",
       "      <td>matmul</td>\n",
       "    </tr>\n",
       "    <tr>\n",
       "      <th>3</th>\n",
       "      <td>TRITON</td>\n",
       "      <td>vecadd</td>\n",
       "      <td>10000000</td>\n",
       "      <td>1</td>\n",
       "      <td>1</td>\n",
       "      <td>13.040066</td>\n",
       "      <td>0.333309</td>\n",
       "      <td>12.706757</td>\n",
       "      <td>128519680</td>\n",
       "      <td>6.0</td>\n",
       "      <td>vecadd</td>\n",
       "    </tr>\n",
       "  </tbody>\n",
       "</table>\n",
       "</div>"
      ],
      "text/plain": [
       "  implementation operation         M     N     K  execution_time_ms  \\\n",
       "0         TRITON    matmul      2048  2048  2048           9.132385   \n",
       "1           CUDA    vecadd  10000000     1     1          28.045000   \n",
       "2           CUDA    matmul      2048  2048  2048          21.055000   \n",
       "3         TRITON    vecadd  10000000     1     1          13.040066   \n",
       "\n",
       "   kernel_time_ms  mem_transfer_time_ms  memory_used_bytes  gpu_util_percent  \\\n",
       "0        2.999783              6.132603           58851328               1.0   \n",
       "1        0.344616             25.996400          120000000               0.0   \n",
       "2        9.560350             10.755300           50331648               0.0   \n",
       "3        0.333309             12.706757          128519680               6.0   \n",
       "\n",
       "  benchmark_type  \n",
       "0         matmul  \n",
       "1         vecadd  \n",
       "2         matmul  \n",
       "3         vecadd  "
      ]
     },
     "metadata": {},
     "output_type": "display_data"
    },
    {
     "name": "stdout",
     "output_type": "stream",
     "text": [
      "\n",
      "Benchmark Types Loaded: ['matmul' 'vecadd']\n",
      "Implementations Loaded: ['TRITON' 'CUDA']\n"
     ]
    }
   ],
   "source": [
    "# Load the benchmark data\n",
    "combined_df_raw = load_benchmark_data()\n",
    "\n",
    "# Display sample data\n",
    "print(\"\\nCombined Benchmark Sample (Raw):\")\n",
    "display(combined_df_raw.head())\n",
    "print(\"\\nBenchmark Types Loaded:\", combined_df_raw['benchmark_type'].unique())\n",
    "print(\"Implementations Loaded:\", combined_df_raw['implementation'].unique())"
   ]
  },
  {
   "cell_type": "markdown",
   "id": "254ef90b",
   "metadata": {},
   "source": [
    "## Data Preprocessing\n",
    "\n",
    "Ensure consistent data types across all loaded benchmarks and prepare the combined dataset for analysis. Create specific columns like 'test\\_case' only where applicable (e.g., for FSA benchmarks)."
   ]
  },
  {
   "cell_type": "code",
   "execution_count": 4,
   "id": "787e2b2d",
   "metadata": {},
   "outputs": [],
   "source": [
    "def preprocess_benchmark_data(df: pd.DataFrame) -> pd.DataFrame:\n",
    "    \"\"\"\n",
    "    Preprocess the combined benchmark data for analysis. Ensures consistent\n",
    "    numeric types and creates derived columns where appropriate.\n",
    "\n",
    "    Args:\n",
    "        df: DataFrame containing combined benchmark data from various types.\n",
    "\n",
    "    Returns:\n",
    "        Combined DataFrame with preprocessed data.\n",
    "    \"\"\"\n",
    "    # Ensure numeric columns common across benchmarks are properly typed\n",
    "    numeric_columns = [\n",
    "        'execution_time_ms', 'kernel_time_ms', 'mem_transfer_time_ms',\n",
    "        'memory_used_bytes', 'gpu_util_percent'\n",
    "    ]\n",
    "    # Add other potential numeric columns that might exist in some benchmarks\n",
    "    optional_numeric = ['M', 'N', 'K', 'batch_size', 'num_states', 'compilation_time_ms', \n",
    "                        'num_symbols', 'number_of_accepting_states', 'start_state']\n",
    "\n",
    "    for col in numeric_columns + optional_numeric:\n",
    "        if col in df.columns:\n",
    "            df[col] = pd.to_numeric(df[col], errors='coerce') # Coerce errors to NaN\n",
    "\n",
    "    # Rename implementation column if needed (already done in load, but good practice)\n",
    "    df['implementation'] = df['implementation'].str.upper()\n",
    "\n",
    "    # Create 'test_case' identifier only for FSA benchmarks\n",
    "    df['test_case'] = None # Initialize column\n",
    "    fsa_mask = df['benchmark_type'] == 'fsa'\n",
    "    if fsa_mask.any():\n",
    "         # Ensure required columns exist before creating test_case for FSA\n",
    "        if 'regex_pattern' in df.columns and 'input_string' in df.columns:\n",
    "            df.loc[fsa_mask, 'test_case'] = df.loc[fsa_mask, 'regex_pattern'].astype(str) + '_' + df.loc[fsa_mask, 'input_string'].astype(str)\n",
    "        else:\n",
    "            print(\"Warning: 'regex_pattern' or 'input_string' columns missing for FSA data. Cannot create 'test_case'.\")\n",
    "\n",
    "\n",
    "    # Fill NaNs in key numeric columns if appropriate (e.g., with 0 or mean), or leave as NaN\n",
    "    # For now, leave NaNs as they might indicate missing data for specific benchmark types\n",
    "    # df[numeric_columns] = df[numeric_columns].fillna(0) # Example: fill with 0\n",
    "\n",
    "    return df"
   ]
  },
  {
   "cell_type": "code",
   "execution_count": 5,
   "id": "e7aff135",
   "metadata": {},
   "outputs": [
    {
     "name": "stdout",
     "output_type": "stream",
     "text": [
      "Combined Dataset Information (Processed):\n",
      "<class 'pandas.core.frame.DataFrame'>\n",
      "RangeIndex: 4 entries, 0 to 3\n",
      "Data columns (total 12 columns):\n",
      " #   Column                Non-Null Count  Dtype  \n",
      "---  ------                --------------  -----  \n",
      " 0   implementation        4 non-null      object \n",
      " 1   operation             4 non-null      object \n",
      " 2   M                     4 non-null      int64  \n",
      " 3   N                     4 non-null      int64  \n",
      " 4   K                     4 non-null      int64  \n",
      " 5   execution_time_ms     4 non-null      float64\n",
      " 6   kernel_time_ms        4 non-null      float64\n",
      " 7   mem_transfer_time_ms  4 non-null      float64\n",
      " 8   memory_used_bytes     4 non-null      int64  \n",
      " 9   gpu_util_percent      4 non-null      float64\n",
      " 10  benchmark_type        4 non-null      object \n",
      " 11  test_case             0 non-null      object \n",
      "dtypes: float64(4), int64(4), object(4)\n",
      "memory usage: 516.0+ bytes\n",
      "\n",
      "Summary Statistics (Grouped by Benchmark Type and Implementation):\n"
     ]
    },
    {
     "ename": "NameError",
     "evalue": "name 'numeric_columns' is not defined",
     "output_type": "error",
     "traceback": [
      "\u001b[31m---------------------------------------------------------------------------\u001b[39m",
      "\u001b[31mNameError\u001b[39m                                 Traceback (most recent call last)",
      "\u001b[36mCell\u001b[39m\u001b[36m \u001b[39m\u001b[32mIn[5]\u001b[39m\u001b[32m, line 10\u001b[39m\n\u001b[32m      8\u001b[39m \u001b[38;5;66;03m# Display basic statistics for the combined dataset (grouped by type)\u001b[39;00m\n\u001b[32m      9\u001b[39m \u001b[38;5;28mprint\u001b[39m(\u001b[33m\"\u001b[39m\u001b[38;5;130;01m\\n\u001b[39;00m\u001b[33mSummary Statistics (Grouped by Benchmark Type and Implementation):\u001b[39m\u001b[33m\"\u001b[39m)\n\u001b[32m---> \u001b[39m\u001b[32m10\u001b[39m display(combined_df.groupby([\u001b[33m'\u001b[39m\u001b[33mbenchmark_type\u001b[39m\u001b[33m'\u001b[39m, \u001b[33m'\u001b[39m\u001b[33mimplementation\u001b[39m\u001b[33m'\u001b[39m])[\u001b[43mnumeric_columns\u001b[49m].describe())\n",
      "\u001b[31mNameError\u001b[39m: name 'numeric_columns' is not defined"
     ]
    }
   ],
   "source": [
    "# Preprocess the benchmark data\n",
    "combined_df = preprocess_benchmark_data(combined_df_raw.copy()) # Use a copy\n",
    "\n",
    "# Display information about the combined dataset\n",
    "print(\"Combined Dataset Information (Processed):\")\n",
    "combined_df.info()\n",
    "\n",
    "# Display basic statistics for the combined dataset (grouped by type)\n",
    "print(\"\\nSummary Statistics (Grouped by Benchmark Type and Implementation):\")\n",
    "display(combined_df.groupby(['benchmark_type', 'implementation'])[numeric_columns].describe())"
   ]
  },
  {
   "cell_type": "markdown",
   "id": "6abc5942",
   "metadata": {},
   "source": [
    "## Performance Analysis\n",
    "\n",
    "Analyze performance differences between CUDA and Triton across all loaded benchmark types, focusing on execution time, memory usage, and kernel time."
   ]
  },
  {
   "cell_type": "code",
   "execution_count": null,
   "id": "f3dea21a",
   "metadata": {},
   "outputs": [
    {
     "ename": "",
     "evalue": "",
     "output_type": "error",
     "traceback": [
      "\u001b[1;31mnotebook controller is DISPOSED. \n",
      "\u001b[1;31mView Jupyter <a href='command:jupyter.viewOutput'>log</a> for further details."
     ]
    },
    {
     "ename": "",
     "evalue": "",
     "output_type": "error",
     "traceback": [
      "\u001b[1;31mnotebook controller is DISPOSED. \n",
      "\u001b[1;31mView Jupyter <a href='command:jupyter.viewOutput'>log</a> for further details."
     ]
    },
    {
     "ename": "",
     "evalue": "",
     "output_type": "error",
     "traceback": [
      "\u001b[1;31mnotebook controller is DISPOSED. \n",
      "\u001b[1;31mView Jupyter <a href='command:jupyter.viewOutput'>log</a> for further details."
     ]
    },
    {
     "ename": "",
     "evalue": "",
     "output_type": "error",
     "traceback": [
      "\u001b[1;31mnotebook controller is DISPOSED. \n",
      "\u001b[1;31mView Jupyter <a href='command:jupyter.viewOutput'>log</a> for further details."
     ]
    }
   ],
   "source": [
    "def analyze_performance_metrics(df: pd.DataFrame) -> Dict[str, Any]:\n",
    "    \"\"\"\n",
    "    Analyze key performance metrics, grouped by benchmark type and implementation.\n",
    "\n",
    "    Args:\n",
    "        df: DataFrame containing the combined preprocessed benchmark data.\n",
    "\n",
    "    Returns:\n",
    "        Dictionary containing analysis results (stats, speedup ratios, etc.).\n",
    "    \"\"\"\n",
    "    results = {}\n",
    "\n",
    "    # Check if required columns exist\n",
    "    required_cols = ['benchmark_type', 'implementation', 'execution_time_ms']\n",
    "    if not all(col in df.columns for col in required_cols):\n",
    "        print(\"Error: Required columns are missing for performance analysis.\")\n",
    "        return results\n",
    "\n",
    "    # Calculate statistics by benchmark type and implementation\n",
    "    stats_by_type_impl = df.groupby(['benchmark_type', 'implementation'])['execution_time_ms'].agg([\n",
    "        'mean', 'std', 'min', 'max', 'count'\n",
    "    ]).reset_index()\n",
    "\n",
    "    # Calculate coefficient of variation\n",
    "    stats_by_type_impl['cv'] = (stats_by_type_impl['std'] / stats_by_type_impl['mean']) * 100\n",
    "    stats_by_type_impl = stats_by_type_impl.set_index(['benchmark_type', 'implementation'])\n",
    "    results['stats'] = stats_by_type_impl\n",
    "\n",
    "    # Calculate ratios (Speedup, Memory, Kernel Time) per benchmark type\n",
    "    ratios = defaultdict(dict)\n",
    "    for benchmark_type in df['benchmark_type'].unique():\n",
    "        try:\n",
    "            cuda_stats = stats_by_type_impl.loc[(benchmark_type, 'CUDA')]\n",
    "            triton_stats = stats_by_type_impl.loc[(benchmark_type, 'TRITON')]\n",
    "\n",
    "            # Speedup (Execution Time)\n",
    "            ratios[benchmark_type]['speedup'] = cuda_stats['mean'] / triton_stats['mean']\n",
    "\n",
    "            # Memory Usage Ratio\n",
    "            if 'memory_used_bytes' in df.columns:\n",
    "                mem_means = df.groupby(['benchmark_type', 'implementation'])['memory_used_bytes'].mean()\n",
    "                if (benchmark_type, 'CUDA') in mem_means.index and (benchmark_type, 'TRITON') in mem_means.index:\n",
    "                     cuda_mem = mem_means.loc[(benchmark_type, 'CUDA')]\n",
    "                     triton_mem = mem_means.loc[(benchmark_type, 'TRITON')]\n",
    "                     # Avoid division by zero if triton_mem is 0 or NaN\n",
    "                     ratios[benchmark_type]['memory_ratio'] = cuda_mem / triton_mem if triton_mem else np.nan\n",
    "                else:\n",
    "                     ratios[benchmark_type]['memory_ratio'] = np.nan\n",
    "            else:\n",
    "                 ratios[benchmark_type]['memory_ratio'] = np.nan\n",
    "\n",
    "\n",
    "            # Kernel Time Ratio\n",
    "            if 'kernel_time_ms' in df.columns:\n",
    "                kernel_means = df.groupby(['benchmark_type', 'implementation'])['kernel_time_ms'].mean()\n",
    "                if (benchmark_type, 'CUDA') in kernel_means.index and (benchmark_type, 'TRITON') in kernel_means.index:\n",
    "                    cuda_kernel = kernel_means.loc[(benchmark_type, 'CUDA')]\n",
    "                    triton_kernel = kernel_means.loc[(benchmark_type, 'TRITON')]\n",
    "                    # Avoid division by zero\n",
    "                    ratios[benchmark_type]['kernel_ratio'] = cuda_kernel / triton_kernel if triton_kernel else np.nan\n",
    "                else:\n",
    "                    ratios[benchmark_type]['kernel_ratio'] = np.nan\n",
    "            else:\n",
    "                 ratios[benchmark_type]['kernel_ratio'] = np.nan\n",
    "\n",
    "\n",
    "        except KeyError as e:\n",
    "            print(f\"Warning: Missing CUDA or Triton data for benchmark type '{benchmark_type}'. Cannot calculate ratios. Error: {e}\")\n",
    "            ratios[benchmark_type]['speedup'] = np.nan\n",
    "            ratios[benchmark_type]['memory_ratio'] = np.nan\n",
    "            ratios[benchmark_type]['kernel_ratio'] = np.nan\n",
    "\n",
    "\n",
    "    results['ratios'] = pd.DataFrame.from_dict(ratios, orient='index')\n",
    "\n",
    "    # Optional: Analyze other metrics like num_states for FSA\n",
    "    if 'num_states' in df.columns and 'fsa' in df['benchmark_type'].unique():\n",
    "        fsa_df = df[df['benchmark_type'] == 'fsa']\n",
    "        if not fsa_df.empty:\n",
    "             results['fsa_states_by_impl'] = fsa_df.groupby('implementation')['num_states'].mean()\n",
    "\n",
    "    return results"
   ]
  },
  {
   "cell_type": "code",
   "execution_count": null,
   "id": "6cfbf055",
   "metadata": {},
   "outputs": [
    {
     "name": "stdout",
     "output_type": "stream",
     "text": [
      "Statistical Analysis of Execution Time by Implementation:\n"
     ]
    },
    {
     "data": {
      "text/html": [
       "<div>\n",
       "<style scoped>\n",
       "    .dataframe tbody tr th:only-of-type {\n",
       "        vertical-align: middle;\n",
       "    }\n",
       "\n",
       "    .dataframe tbody tr th {\n",
       "        vertical-align: top;\n",
       "    }\n",
       "\n",
       "    .dataframe thead th {\n",
       "        text-align: right;\n",
       "    }\n",
       "</style>\n",
       "<table border=\"1\" class=\"dataframe\">\n",
       "  <thead>\n",
       "    <tr style=\"text-align: right;\">\n",
       "      <th></th>\n",
       "      <th>mean</th>\n",
       "      <th>std</th>\n",
       "      <th>min</th>\n",
       "      <th>max</th>\n",
       "      <th>count</th>\n",
       "      <th>cv</th>\n",
       "    </tr>\n",
       "    <tr>\n",
       "      <th>implementation</th>\n",
       "      <th></th>\n",
       "      <th></th>\n",
       "      <th></th>\n",
       "      <th></th>\n",
       "      <th></th>\n",
       "      <th></th>\n",
       "    </tr>\n",
       "  </thead>\n",
       "  <tbody>\n",
       "    <tr>\n",
       "      <th>CUDA</th>\n",
       "      <td>0.029525</td>\n",
       "      <td>0.016193</td>\n",
       "      <td>0.019729</td>\n",
       "      <td>0.225055</td>\n",
       "      <td>174</td>\n",
       "      <td>54.844122</td>\n",
       "    </tr>\n",
       "    <tr>\n",
       "      <th>Triton</th>\n",
       "      <td>37.717133</td>\n",
       "      <td>55.859858</td>\n",
       "      <td>0.420809</td>\n",
       "      <td>414.434195</td>\n",
       "      <td>58</td>\n",
       "      <td>148.102080</td>\n",
       "    </tr>\n",
       "  </tbody>\n",
       "</table>\n",
       "</div>"
      ],
      "text/plain": [
       "                     mean        std       min         max  count          cv\n",
       "implementation                                                               \n",
       "CUDA             0.029525   0.016193  0.019729    0.225055    174   54.844122\n",
       "Triton          37.717133  55.859858  0.420809  414.434195     58  148.102080"
      ]
     },
     "metadata": {},
     "output_type": "display_data"
    },
    {
     "name": "stdout",
     "output_type": "stream",
     "text": [
      "\n",
      "Performance Comparison:\n",
      "• Triton is 1277.46x faster than CUDA\n",
      "• CUDA average execution time: 0.0295 ms\n",
      "• Triton average execution time: 37.7171 ms\n",
      "\n",
      "Variability Analysis:\n",
      "• CUDA coefficient of variation: 54.84%\n",
      "• Triton coefficient of variation: 148.10%\n",
      "\n",
      "Memory Usage:\n",
      "• CUDA uses 21.72x more memory than Triton\n",
      "\n",
      "Kernel Execution Time:\n",
      "• Triton kernel execution is 5360.95x slower than CUDA\n"
     ]
    },
    {
     "ename": "",
     "evalue": "",
     "output_type": "error",
     "traceback": [
      "\u001b[1;31mnotebook controller is DISPOSED. \n",
      "\u001b[1;31mView Jupyter <a href='command:jupyter.viewOutput'>log</a> for further details."
     ]
    },
    {
     "ename": "",
     "evalue": "",
     "output_type": "error",
     "traceback": [
      "\u001b[1;31mnotebook controller is DISPOSED. \n",
      "\u001b[1;31mView Jupyter <a href='command:jupyter.viewOutput'>log</a> for further details."
     ]
    },
    {
     "ename": "",
     "evalue": "",
     "output_type": "error",
     "traceback": [
      "\u001b[1;31mnotebook controller is DISPOSED. \n",
      "\u001b[1;31mView Jupyter <a href='command:jupyter.viewOutput'>log</a> for further details."
     ]
    },
    {
     "ename": "",
     "evalue": "",
     "output_type": "error",
     "traceback": [
      "\u001b[1;31mnotebook controller is DISPOSED. \n",
      "\u001b[1;31mView Jupyter <a href='command:jupyter.viewOutput'>log</a> for further details."
     ]
    }
   ],
   "source": [
    "# Analyze the performance metrics\n",
    "analysis_results = analyze_performance_metrics(combined_df)\n",
    "\n",
    "# Display the statistical analysis\n",
    "print(\"Statistical Analysis of Execution Time (Grouped):\")\n",
    "if 'stats' in analysis_results:\n",
    "    display(analysis_results['stats'])\n",
    "else:\n",
    "    print(\"No stats available.\")\n",
    "\n",
    "# Print key findings per benchmark type\n",
    "print(\"\\nPerformance Ratios (CUDA vs Triton):\")\n",
    "if 'ratios' in analysis_results:\n",
    "    ratios_df = analysis_results['ratios']\n",
    "    display(ratios_df)\n",
    "\n",
    "    for benchmark_type, row in ratios_df.iterrows():\n",
    "        print(f\"\\n--- {benchmark_type.upper()} Benchmark ---\")\n",
    "        speedup = row['speedup']\n",
    "        memory_ratio = row['memory_ratio']\n",
    "        kernel_ratio = row['kernel_ratio']\n",
    "\n",
    "        if pd.notna(speedup):\n",
    "             if speedup < 1: # Triton faster\n",
    "                 print(f\"• Execution Time: Triton is {1/speedup:.2f}x faster than CUDA\")\n",
    "             else: # CUDA faster or equal\n",
    "                 print(f\"• Execution Time: CUDA is {speedup:.2f}x faster than Triton\")\n",
    "        else:\n",
    "             print(\"• Execution Time: Ratio not available.\")\n",
    "\n",
    "        if pd.notna(memory_ratio):\n",
    "             if memory_ratio < 1: # CUDA uses less\n",
    "                 print(f\"• Memory Usage: CUDA uses {1/memory_ratio:.2f}x less memory than Triton\")\n",
    "             else: # CUDA uses more or equal\n",
    "                 print(f\"• Memory Usage: CUDA uses {memory_ratio:.2f}x more memory than Triton\")\n",
    "        else:\n",
    "            print(\"• Memory Usage: Ratio not available.\")\n",
    "\n",
    "        if pd.notna(kernel_ratio):\n",
    "             if kernel_ratio < 1: # Triton kernel slower\n",
    "                 print(f\"• Kernel Time: Triton kernel is {1/kernel_ratio:.2f}x slower than CUDA\")\n",
    "             else: # CUDA kernel slower or equal\n",
    "                 print(f\"• Kernel Time: CUDA kernel is {kernel_ratio:.2f}x slower than Triton\")\n",
    "        else:\n",
    "             print(\"• Kernel Time: Ratio not available.\")\n",
    "\n",
    "else:\n",
    "    print(\"No ratio data available.\")\n",
    "\n",
    "# Display variability\n",
    "if 'stats' in analysis_results:\n",
    "     print(\"\\nVariability Analysis (Coefficient of Variation %):\")\n",
    "     display(analysis_results['stats']['cv'].unstack())"
   ]
  },
  {
   "cell_type": "markdown",
   "id": "5e841929",
   "metadata": {},
   "source": [
    "## FSA Test Case Analysis\n",
    "\n",
    "Let's analyze performance across different test cases specifically for the **FSA** benchmarks to identify patterns related to regex and input strings."
   ]
  },
  {
   "cell_type": "code",
   "execution_count": null,
   "id": "6413e5ff",
   "metadata": {},
   "outputs": [
    {
     "ename": "",
     "evalue": "",
     "output_type": "error",
     "traceback": [
      "\u001b[1;31mnotebook controller is DISPOSED. \n",
      "\u001b[1;31mView Jupyter <a href='command:jupyter.viewOutput'>log</a> for further details."
     ]
    },
    {
     "ename": "",
     "evalue": "",
     "output_type": "error",
     "traceback": [
      "\u001b[1;31mnotebook controller is DISPOSED. \n",
      "\u001b[1;31mView Jupyter <a href='command:jupyter.viewOutput'>log</a> for further details."
     ]
    },
    {
     "ename": "",
     "evalue": "",
     "output_type": "error",
     "traceback": [
      "\u001b[1;31mnotebook controller is DISPOSED. \n",
      "\u001b[1;31mView Jupyter <a href='command:jupyter.viewOutput'>log</a> for further details."
     ]
    },
    {
     "ename": "",
     "evalue": "",
     "output_type": "error",
     "traceback": [
      "\u001b[1;31mnotebook controller is DISPOSED. \n",
      "\u001b[1;31mView Jupyter <a href='command:jupyter.viewOutput'>log</a> for further details."
     ]
    }
   ],
   "source": [
    "def analyze_test_cases(df: pd.DataFrame) -> pd.DataFrame:\n",
    "    \"\"\"\n",
    "    Analyze performance across different test cases for FSA benchmarks.\n",
    "\n",
    "    Args:\n",
    "        df: DataFrame filtered for FSA benchmark data. Should contain\n",
    "            'test_case', 'implementation', and 'execution_time_ms'.\n",
    "\n",
    "    Returns:\n",
    "        DataFrame with test case comparison data, or empty if no FSA data.\n",
    "    \"\"\"\n",
    "    if df.empty:\n",
    "        print(\"No FSA data available for test case analysis.\")\n",
    "        return pd.DataFrame()\n",
    "        \n",
    "    # Check for required columns\n",
    "    required_cols = ['test_case', 'implementation', 'execution_time_ms']\n",
    "    if not all(col in df.columns for col in required_cols):\n",
    "        print(\"Warning: Required columns missing for FSA test case analysis.\")\n",
    "        return pd.DataFrame()\n",
    "        \n",
    "    # Drop rows where test_case might be None/NaN if created partially\n",
    "    df = df.dropna(subset=['test_case'])\n",
    "    if df.empty:\n",
    "        print(\"No valid test cases found for FSA analysis.\")\n",
    "        return pd.DataFrame()\n",
    "\n",
    "\n",
    "    # Group by test case and implementation\n",
    "    test_case_analysis = df.groupby(['test_case', 'implementation'])['execution_time_ms'].mean().reset_index()\n",
    "\n",
    "    # Pivot the data to compare implementations side by side\n",
    "    test_case_pivot = test_case_analysis.pivot(\n",
    "        index='test_case', columns='implementation', values='execution_time_ms'\n",
    "    )\n",
    "\n",
    "    # Calculate speedup ratio for each test case (handle missing CUDA/Triton)\n",
    "    if 'CUDA' in test_case_pivot.columns and 'TRITON' in test_case_pivot.columns:\n",
    "         # Avoid division by zero or NaN\n",
    "         test_case_pivot['speedup'] = test_case_pivot.apply(\n",
    "             lambda row: row['CUDA'] / row['TRITON'] if pd.notna(row['CUDA']) and pd.notna(row['TRITON']) and row['TRITON'] != 0 else np.nan,\n",
    "             axis=1\n",
    "         )\n",
    "         # Sort by speedup ratio\n",
    "         test_case_pivot = test_case_pivot.sort_values('speedup', ascending=False, na_position='last')\n",
    "    else:\n",
    "         print(\"Warning: Missing CUDA or Triton columns in pivoted data. Cannot calculate speedup.\")\n",
    "         test_case_pivot['speedup'] = np.nan\n",
    "\n",
    "\n",
    "    return test_case_pivot"
   ]
  },
  {
   "cell_type": "code",
   "execution_count": null,
   "id": "681d727e",
   "metadata": {},
   "outputs": [
    {
     "name": "stdout",
     "output_type": "stream",
     "text": [
      "Test Cases where CUDA has the Greatest Advantage:\n"
     ]
    },
    {
     "data": {
      "text/html": [
       "<div>\n",
       "<style scoped>\n",
       "    .dataframe tbody tr th:only-of-type {\n",
       "        vertical-align: middle;\n",
       "    }\n",
       "\n",
       "    .dataframe tbody tr th {\n",
       "        vertical-align: top;\n",
       "    }\n",
       "\n",
       "    .dataframe thead th {\n",
       "        text-align: right;\n",
       "    }\n",
       "</style>\n",
       "<table border=\"1\" class=\"dataframe\">\n",
       "  <thead>\n",
       "    <tr style=\"text-align: right;\">\n",
       "      <th>implementation</th>\n",
       "      <th>CUDA</th>\n",
       "      <th>Triton</th>\n",
       "      <th>speedup</th>\n",
       "    </tr>\n",
       "    <tr>\n",
       "      <th>test_case</th>\n",
       "      <th></th>\n",
       "      <th></th>\n",
       "      <th></th>\n",
       "    </tr>\n",
       "  </thead>\n",
       "  <tbody>\n",
       "    <tr>\n",
       "      <th>(01){2}_0101</th>\n",
       "      <td>0.026254</td>\n",
       "      <td>0.420809</td>\n",
       "      <td>0.062389</td>\n",
       "    </tr>\n",
       "    <tr>\n",
       "      <th>1*_1101</th>\n",
       "      <td>0.030897</td>\n",
       "      <td>0.510216</td>\n",
       "      <td>0.060556</td>\n",
       "    </tr>\n",
       "    <tr>\n",
       "      <th>(0|1)*00_01100</th>\n",
       "      <td>0.032642</td>\n",
       "      <td>0.576496</td>\n",
       "      <td>0.056621</td>\n",
       "    </tr>\n",
       "    <tr>\n",
       "      <th>0[^0]*0_01110</th>\n",
       "      <td>0.028895</td>\n",
       "      <td>0.557184</td>\n",
       "      <td>0.051859</td>\n",
       "    </tr>\n",
       "    <tr>\n",
       "      <th>10?1_100</th>\n",
       "      <td>0.026627</td>\n",
       "      <td>0.528336</td>\n",
       "      <td>0.050398</td>\n",
       "    </tr>\n",
       "  </tbody>\n",
       "</table>\n",
       "</div>"
      ],
      "text/plain": [
       "implementation      CUDA    Triton   speedup\n",
       "test_case                                   \n",
       "(01){2}_0101    0.026254  0.420809  0.062389\n",
       "1*_1101         0.030897  0.510216  0.060556\n",
       "(0|1)*00_01100  0.032642  0.576496  0.056621\n",
       "0[^0]*0_01110   0.028895  0.557184  0.051859\n",
       "10?1_100        0.026627  0.528336  0.050398"
      ]
     },
     "metadata": {},
     "output_type": "display_data"
    },
    {
     "name": "stdout",
     "output_type": "stream",
     "text": [
      "\n",
      "Test Cases where Triton has the Greatest Advantage (or Least Disadvantage):\n"
     ]
    },
    {
     "data": {
      "text/html": [
       "<div>\n",
       "<style scoped>\n",
       "    .dataframe tbody tr th:only-of-type {\n",
       "        vertical-align: middle;\n",
       "    }\n",
       "\n",
       "    .dataframe tbody tr th {\n",
       "        vertical-align: top;\n",
       "    }\n",
       "\n",
       "    .dataframe thead th {\n",
       "        text-align: right;\n",
       "    }\n",
       "</style>\n",
       "<table border=\"1\" class=\"dataframe\">\n",
       "  <thead>\n",
       "    <tr style=\"text-align: right;\">\n",
       "      <th>implementation</th>\n",
       "      <th>CUDA</th>\n",
       "      <th>Triton</th>\n",
       "      <th>speedup</th>\n",
       "    </tr>\n",
       "    <tr>\n",
       "      <th>test_case</th>\n",
       "      <th></th>\n",
       "      <th></th>\n",
       "      <th></th>\n",
       "    </tr>\n",
       "  </thead>\n",
       "  <tbody>\n",
       "    <tr>\n",
       "      <th>(0|1)*_0101010101010101010101010101010101010101</th>\n",
       "      <td>0.028383</td>\n",
       "      <td>56.063890</td>\n",
       "      <td>0.000506</td>\n",
       "    </tr>\n",
       "    <tr>\n",
       "      <th>(0|1)+_nan</th>\n",
       "      <td>0.022030</td>\n",
       "      <td>46.105146</td>\n",
       "      <td>0.000478</td>\n",
       "    </tr>\n",
       "    <tr>\n",
       "      <th>(01){10}_01010101010101010101</th>\n",
       "      <td>0.027240</td>\n",
       "      <td>57.095289</td>\n",
       "      <td>0.000477</td>\n",
       "    </tr>\n",
       "    <tr>\n",
       "      <th>(01)*(0)?|(10)*(1)?_010101</th>\n",
       "      <td>0.027019</td>\n",
       "      <td>58.789253</td>\n",
       "      <td>0.000460</td>\n",
       "    </tr>\n",
       "    <tr>\n",
       "      <th>(0|1)*1_0101</th>\n",
       "      <td>0.113077</td>\n",
       "      <td>414.434195</td>\n",
       "      <td>0.000273</td>\n",
       "    </tr>\n",
       "  </tbody>\n",
       "</table>\n",
       "</div>"
      ],
      "text/plain": [
       "implementation                                       CUDA      Triton  \\\n",
       "test_case                                                               \n",
       "(0|1)*_0101010101010101010101010101010101010101  0.028383   56.063890   \n",
       "(0|1)+_nan                                       0.022030   46.105146   \n",
       "(01){10}_01010101010101010101                    0.027240   57.095289   \n",
       "(01)*(0)?|(10)*(1)?_010101                       0.027019   58.789253   \n",
       "(0|1)*1_0101                                     0.113077  414.434195   \n",
       "\n",
       "implementation                                    speedup  \n",
       "test_case                                                  \n",
       "(0|1)*_0101010101010101010101010101010101010101  0.000506  \n",
       "(0|1)+_nan                                       0.000478  \n",
       "(01){10}_01010101010101010101                    0.000477  \n",
       "(01)*(0)?|(10)*(1)?_010101                       0.000460  \n",
       "(0|1)*1_0101                                     0.000273  "
      ]
     },
     "metadata": {},
     "output_type": "display_data"
    },
    {
     "name": "stdout",
     "output_type": "stream",
     "text": [
      "\n",
      "Speedup Ratio Distribution:\n",
      "count    58.000000\n",
      "mean      0.015684\n",
      "std       0.021056\n",
      "min       0.000273\n",
      "25%       0.000538\n",
      "50%       0.000599\n",
      "75%       0.033698\n",
      "max       0.062389\n",
      "Name: speedup, dtype: float64\n"
     ]
    },
    {
     "ename": "",
     "evalue": "",
     "output_type": "error",
     "traceback": [
      "\u001b[1;31mnotebook controller is DISPOSED. \n",
      "\u001b[1;31mView Jupyter <a href='command:jupyter.viewOutput'>log</a> for further details."
     ]
    },
    {
     "ename": "",
     "evalue": "",
     "output_type": "error",
     "traceback": [
      "\u001b[1;31mnotebook controller is DISPOSED. \n",
      "\u001b[1;31mView Jupyter <a href='command:jupyter.viewOutput'>log</a> for further details."
     ]
    },
    {
     "ename": "",
     "evalue": "",
     "output_type": "error",
     "traceback": [
      "\u001b[1;31mnotebook controller is DISPOSED. \n",
      "\u001b[1;31mView Jupyter <a href='command:jupyter.viewOutput'>log</a> for further details."
     ]
    },
    {
     "ename": "",
     "evalue": "",
     "output_type": "error",
     "traceback": [
      "\u001b[1;31mnotebook controller is DISPOSED. \n",
      "\u001b[1;31mView Jupyter <a href='command:jupyter.viewOutput'>log</a> for further details."
     ]
    }
   ],
   "source": [
    "# Analyze performance across FSA test cases\n",
    "fsa_df = combined_df[combined_df['benchmark_type'] == 'fsa'].copy()\n",
    "\n",
    "if not fsa_df.empty:\n",
    "    test_case_results = analyze_test_cases(fsa_df)\n",
    "\n",
    "    if not test_case_results.empty:\n",
    "        # Display top and bottom test cases by speedup ratio\n",
    "        print(\"FSA Test Cases where CUDA has the Greatest Advantage:\")\n",
    "        display(test_case_results.head(5))\n",
    "\n",
    "        print(\"\\nFSA Test Cases where Triton has the Greatest Advantage (or Least Disadvantage):\")\n",
    "        display(test_case_results.tail(5))\n",
    "\n",
    "        # Calculate distribution of speedup ratios\n",
    "        if 'speedup' in test_case_results.columns and test_case_results['speedup'].notna().any():\n",
    "             print(\"\\nFSA Speedup Ratio Distribution:\")\n",
    "             print(test_case_results['speedup'].describe())\n",
    "        else:\n",
    "             print(\"\\nFSA Speedup Ratio Distribution: Not available.\")\n",
    "    else:\n",
    "        print(\"Could not generate FSA test case results.\")\n",
    "else:\n",
    "    print(\"No FSA benchmark data found for test case analysis.\")\n"
   ]
  },
  {
   "cell_type": "markdown",
   "id": "893af536",
   "metadata": {},
   "source": [
    "## Visualization of Results\n",
    "\n",
    "Create visualizations to compare performance characteristics across different benchmark types and implementations."
   ]
  },
  {
   "cell_type": "code",
   "execution_count": null,
   "id": "779fd24d",
   "metadata": {},
   "outputs": [
    {
     "ename": "",
     "evalue": "",
     "output_type": "error",
     "traceback": [
      "\u001b[1;31mnotebook controller is DISPOSED. \n",
      "\u001b[1;31mView Jupyter <a href='command:jupyter.viewOutput'>log</a> for further details."
     ]
    },
    {
     "ename": "",
     "evalue": "",
     "output_type": "error",
     "traceback": [
      "\u001b[1;31mnotebook controller is DISPOSED. \n",
      "\u001b[1;31mView Jupyter <a href='command:jupyter.viewOutput'>log</a> for further details."
     ]
    },
    {
     "ename": "",
     "evalue": "",
     "output_type": "error",
     "traceback": [
      "\u001b[1;31mnotebook controller is DISPOSED. \n",
      "\u001b[1;31mView Jupyter <a href='command:jupyter.viewOutput'>log</a> for further details."
     ]
    },
    {
     "ename": "",
     "evalue": "",
     "output_type": "error",
     "traceback": [
      "\u001b[1;31mnotebook controller is DISPOSED. \n",
      "\u001b[1;31mView Jupyter <a href='command:jupyter.viewOutput'>log</a> for further details."
     ]
    }
   ],
   "source": [
    "def create_performance_visualizations(df: pd.DataFrame, analysis_results: Dict[str, Any]) -> None:\n",
    "    \"\"\"\n",
    "    Create visualizations of performance metrics for CUDA and Triton,\n",
    "    faceted by benchmark type.\n",
    "\n",
    "    Args:\n",
    "        df: Combined DataFrame with benchmark data.\n",
    "        analysis_results: Dictionary containing analysis results (stats, ratios).\n",
    "    \"\"\"\n",
    "    if df.empty or not analysis_results or 'stats' not in analysis_results:\n",
    "        print(\"Insufficient data for creating visualizations.\")\n",
    "        return\n",
    "\n",
    "    benchmark_types = df['benchmark_type'].unique()\n",
    "    num_types = len(benchmark_types)\n",
    "    \n",
    "    # Adjust layout based on number of benchmark types if needed\n",
    "    # Simple layout for now: 2x2 grid, potentially add more rows/cols or scroll\n",
    "    fig, axes = plt.subplots(2, 2, figsize=(16, 12))\n",
    "    axes_flat = axes.flatten() # Flatten for easier iteration\n",
    "\n",
    "    # --- Plot 1: Average Execution Time by Benchmark Type ---\n",
    "    ax1 = axes_flat[0]\n",
    "    stats_df = analysis_results['stats'].reset_index()\n",
    "    sns.barplot(x='benchmark_type', y='mean', hue='implementation', data=stats_df, ax=ax1, capsize=0.1)\n",
    "    \n",
    "    # Add error bars (std dev) manually as seaborn might not do it easily with hue on grouped data\n",
    "    # This requires careful alignment - simplified for now, showing only means.\n",
    "    # For error bars: iterate through bars and add plt.errorbar\n",
    "    \n",
    "    ax1.set_title('Average Execution Time by Benchmark', fontsize=14)\n",
    "    ax1.set_ylabel('Time (ms)', fontsize=12)\n",
    "    ax1.set_xlabel('Benchmark Type', fontsize=12)\n",
    "    ax1.tick_params(axis='x', rotation=45)\n",
    "    ax1.grid(True, alpha=0.3)\n",
    "    ax1.legend(title='Implementation')\n",
    "\n",
    "    # --- Plot 2: Distribution of Execution Times (Boxplot) ---\n",
    "    ax2 = axes_flat[1]\n",
    "    sns.boxplot(x='benchmark_type', y='execution_time_ms', hue='implementation', data=df, ax=ax2)\n",
    "    ax2.set_title('Distribution of Execution Times', fontsize=14)\n",
    "    ax2.set_ylabel('Time (ms) (Log Scale)', fontsize=12) # Use log scale if times vary greatly\n",
    "    ax2.set_xlabel('Benchmark Type', fontsize=12)\n",
    "    ax2.tick_params(axis='x', rotation=45)\n",
    "    ax2.grid(True, alpha=0.3)\n",
    "    ax2.legend(title='Implementation')\n",
    "    # Consider log scale if ranges are large\n",
    "    min_time = df['execution_time_ms'][df['execution_time_ms'] > 0].min()\n",
    "    if min_time and df['execution_time_ms'].max() / min_time > 1000: # Heuristic for log scale\n",
    "         ax2.set_yscale('log')\n",
    "         ax2.set_ylabel('Time (ms) (Log Scale)', fontsize=12)\n",
    "    else:\n",
    "         ax2.set_ylabel('Time (ms)', fontsize=12)\n",
    "\n",
    "\n",
    "    # --- Plot 3: Kernel Time vs Execution Time ---\n",
    "    ax3 = axes_flat[2]\n",
    "    if 'kernel_time_ms' in df.columns:\n",
    "        sns.scatterplot(x='kernel_time_ms', y='execution_time_ms', hue='implementation', style='benchmark_type', data=df, ax=ax3, alpha=0.7)\n",
    "        ax3.set_title('Kernel Time vs. Total Execution Time', fontsize=14)\n",
    "        ax3.set_xlabel('Kernel Time (ms)', fontsize=12)\n",
    "        ax3.set_ylabel('Execution Time (ms)', fontsize=12)\n",
    "        ax3.grid(True, alpha=0.3)\n",
    "        ax3.legend(title='Implementation/Type', bbox_to_anchor=(1.05, 1), loc='upper left')\n",
    "\n",
    "        # Add line of equality for reference\n",
    "        valid_times = df[['kernel_time_ms', 'execution_time_ms']].dropna()\n",
    "        if not valid_times.empty:\n",
    "            min_val = valid_times.min().min()\n",
    "            max_val = valid_times.max().max()\n",
    "            if pd.notna(min_val) and pd.notna(max_val):\n",
    "                 ax3.plot([min_val, max_val], [min_val, max_val], 'k--', alpha=0.3)\n",
    "    else:\n",
    "        ax3.text(0.5, 0.5, \"Kernel time data not available\", ha='center', va='center', transform=ax3.transAxes)\n",
    "        ax3.set_title('Kernel Time vs. Total Execution Time', fontsize=14)\n",
    "\n",
    "\n",
    "    # --- Plot 4: Speedup Ratio Distribution (FSA only for now) ---\n",
    "    ax4 = axes_flat[3]\n",
    "    fsa_df = df[df['benchmark_type'] == 'fsa'].copy()\n",
    "    if not fsa_df.empty:\n",
    "        test_case_pivot = analyze_test_cases(fsa_df) # Recalculate or pass from previous step\n",
    "        if not test_case_pivot.empty and 'speedup' in test_case_pivot.columns and test_case_pivot['speedup'].notna().any():\n",
    "            sns.histplot(test_case_pivot['speedup'].dropna(), ax=ax4, kde=True, bins=15)\n",
    "            ax4.axvline(x=1, color='red', linestyle='--')\n",
    "            # Consider log scale for speedup if range is very large\n",
    "            # ax4.set_xscale('log')\n",
    "            ax4.set_title('Distribution of Speedup Ratios (CUDA/Triton) - FSA Only', fontsize=14)\n",
    "            ax4.set_xlabel('Speedup Ratio', fontsize=12)\n",
    "            ax4.set_ylabel('Frequency', fontsize=12)\n",
    "            ax4.grid(True, alpha=0.3)\n",
    "        else:\n",
    "             ax4.text(0.5, 0.5, \"FSA Speedup data not available\\nor insufficient for histogram\", ha='center', va='center', transform=ax4.transAxes)\n",
    "             ax4.set_title('Distribution of Speedup Ratios (CUDA/Triton) - FSA Only', fontsize=14)\n",
    "    else:\n",
    "        ax4.text(0.5, 0.5, \"FSA data not available\", ha='center', va='center', transform=ax4.transAxes)\n",
    "        ax4.set_title('Distribution of Speedup Ratios (CUDA/Triton) - FSA Only', fontsize=14)\n",
    "\n",
    "\n",
    "    plt.tight_layout(rect=[0, 0, 1, 0.96]) # Adjust layout to prevent title overlap\n",
    "    fig.suptitle('Performance Comparison: CUDA vs. Triton across Benchmarks', fontsize=16)\n",
    "    \n",
    "    # Save the figure\n",
    "    save_path = '../results/performance_comparison_multi_benchmark.png'\n",
    "    try:\n",
    "        plt.savefig(save_path, dpi=300, bbox_inches='tight')\n",
    "        print(f\"Visualization saved as '{save_path}'\")\n",
    "    except Exception as e:\n",
    "        print(f\"Error saving visualization: {e}\")\n",
    "    plt.show() # Display the plot in the notebook"
   ]
  },
  {
   "cell_type": "code",
   "execution_count": null,
   "id": "d8ae0a34",
   "metadata": {},
   "outputs": [
    {
     "data": {
      "image/png": "[encoded data removed]",
      "text/plain": [
       "<Figure size 1600x1200 with 4 Axes>"
      ]
     },
     "metadata": {},
     "output_type": "display_data"
    },
    {
     "name": "stdout",
     "output_type": "stream",
     "text": [
      "Visualization saved as '../results/performance_comparison_detailed.png'\n"
     ]
    },
    {
     "ename": "",
     "evalue": "",
     "output_type": "error",
     "traceback": [
      "\u001b[1;31mnotebook controller is DISPOSED. \n",
      "\u001b[1;31mView Jupyter <a href='command:jupyter.viewOutput'>log</a> for further details."
     ]
    },
    {
     "ename": "",
     "evalue": "",
     "output_type": "error",
     "traceback": [
      "\u001b[1;31mnotebook controller is DISPOSED. \n",
      "\u001b[1;31mView Jupyter <a href='command:jupyter.viewOutput'>log</a> for further details."
     ]
    },
    {
     "ename": "",
     "evalue": "",
     "output_type": "error",
     "traceback": [
      "\u001b[1;31mnotebook controller is DISPOSED. \n",
      "\u001b[1;31mView Jupyter <a href='command:jupyter.viewOutput'>log</a> for further details."
     ]
    },
    {
     "ename": "",
     "evalue": "",
     "output_type": "error",
     "traceback": [
      "\u001b[1;31mnotebook controller is DISPOSED. \n",
      "\u001b[1;31mView Jupyter <a href='command:jupyter.viewOutput'>log</a> for further details."
     ]
    }
   ],
   "source": [
    "# Create visualizations\n",
    "create_performance_visualizations(combined_df, analysis_results)"
   ]
  },
  {
   "cell_type": "markdown",
   "id": "c31a263e",
   "metadata": {},
   "source": [
    "## Advanced Analysis: FSA Pattern-Based Performance\n",
    "\n",
    "Analyze performance based on regex pattern complexity, specifically for the **FSA** benchmarks."
   ]
  },
  {
   "cell_type": "code",
   "execution_count": null,
   "id": "10d225f4",
   "metadata": {},
   "outputs": [
    {
     "ename": "",
     "evalue": "",
     "output_type": "error",
     "traceback": [
      "\u001b[1;31mnotebook controller is DISPOSED. \n",
      "\u001b[1;31mView Jupyter <a href='command:jupyter.viewOutput'>log</a> for further details."
     ]
    },
    {
     "ename": "",
     "evalue": "",
     "output_type": "error",
     "traceback": [
      "\u001b[1;31mnotebook controller is DISPOSED. \n",
      "\u001b[1;31mView Jupyter <a href='command:jupyter.viewOutput'>log</a> for further details."
     ]
    },
    {
     "ename": "",
     "evalue": "",
     "output_type": "error",
     "traceback": [
      "\u001b[1;31mnotebook controller is DISPOSED. \n",
      "\u001b[1;31mView Jupyter <a href='command:jupyter.viewOutput'>log</a> for further details."
     ]
    },
    {
     "ename": "",
     "evalue": "",
     "output_type": "error",
     "traceback": [
      "\u001b[1;31mnotebook controller is DISPOSED. \n",
      "\u001b[1;31mView Jupyter <a href='command:jupyter.viewOutput'>log</a> for further details."
     ]
    }
   ],
   "source": [
    "def analyze_pattern_performance(df: pd.DataFrame) -> pd.DataFrame:\n",
    "    \"\"\"\n",
    "    Analyze FSA performance based on regex pattern complexity.\n",
    "\n",
    "    Args:\n",
    "        df: DataFrame filtered for FSA benchmark data.\n",
    "\n",
    "    Returns:\n",
    "        DataFrame with pattern complexity analysis, or empty if no FSA data.\n",
    "    \"\"\"\n",
    "    if df.empty:\n",
    "        print(\"No FSA data available for pattern performance analysis.\")\n",
    "        return pd.DataFrame()\n",
    "\n",
    "    # Check for required columns\n",
    "    required_cols = ['regex_pattern', 'implementation', 'execution_time_ms']\n",
    "    if not all(col in df.columns for col in required_cols):\n",
    "        print(\"Warning: Required columns missing for FSA pattern analysis.\")\n",
    "        return pd.DataFrame()\n",
    "        \n",
    "    # Add a column for pattern complexity (rough estimate based on length)\n",
    "    # Ensure regex_pattern is string, handle potential NaN/None\n",
    "    df['pattern_length'] = df['regex_pattern'].astype(str).apply(len)\n",
    "\n",
    "    # Categorize pattern complexity\n",
    "    def categorize_complexity(pattern_str):\n",
    "        # Handle 'nan' string that might result from astype(str)\n",
    "        if pattern_str == 'nan':\n",
    "            return 'Unknown'\n",
    "        length = len(pattern_str)\n",
    "        if length <= 5:\n",
    "            return 'Simple'\n",
    "        elif length <= 10:\n",
    "            return 'Moderate'\n",
    "        else:\n",
    "            return 'Complex'\n",
    "\n",
    "    df['pattern_complexity'] = df['regex_pattern'].astype(str).apply(categorize_complexity)\n",
    "\n",
    "    # Analyze performance by pattern complexity\n",
    "    complexity_analysis = df.groupby(['implementation', 'pattern_complexity'])['execution_time_ms'].agg(\n",
    "        ['mean', 'std', 'count']\n",
    "    ).reset_index()\n",
    "\n",
    "    # Calculate speedup by complexity category\n",
    "    speedup_by_complexity = pd.DataFrame()\n",
    "    \n",
    "    # Pivot to easily get CUDA and Triton times per complexity\n",
    "    pivot_complexity = complexity_analysis.pivot_table(\n",
    "        index='pattern_complexity', columns='implementation', values='mean'\n",
    "    )\n",
    "\n",
    "    if 'CUDA' in pivot_complexity.columns and 'TRITON' in pivot_complexity.columns:\n",
    "        pivot_complexity['speedup_ratio'] = pivot_complexity.apply(\n",
    "            lambda row: row['CUDA'] / row['TRITON'] if pd.notna(row['CUDA']) and pd.notna(row['TRITON']) and row['TRITON'] != 0 else np.nan,\n",
    "            axis=1\n",
    "        )\n",
    "        speedup_by_complexity = pivot_complexity.reset_index()\n",
    "        # Rename columns for clarity if needed\n",
    "        speedup_by_complexity = speedup_by_complexity.rename(columns={'CUDA': 'cuda_time_ms', 'TRITON': 'triton_time_ms'})\n",
    "    else:\n",
    "        print(\"Warning: Missing CUDA or Triton data for some complexity levels.\")\n",
    "        # Return the basic analysis without speedup if columns are missing\n",
    "        speedup_by_complexity = complexity_analysis \n",
    "\n",
    "\n",
    "    return speedup_by_complexity"
   ]
  },
  {
   "cell_type": "code",
   "execution_count": null,
   "id": "a9abe9ba",
   "metadata": {},
   "outputs": [
    {
     "name": "stdout",
     "output_type": "stream",
     "text": [
      "Performance by Pattern Complexity:\n"
     ]
    },
    {
     "data": {
      "text/html": [
       "<div>\n",
       "<style scoped>\n",
       "    .dataframe tbody tr th:only-of-type {\n",
       "        vertical-align: middle;\n",
       "    }\n",
       "\n",
       "    .dataframe tbody tr th {\n",
       "        vertical-align: top;\n",
       "    }\n",
       "\n",
       "    .dataframe thead th {\n",
       "        text-align: right;\n",
       "    }\n",
       "</style>\n",
       "<table border=\"1\" class=\"dataframe\">\n",
       "  <thead>\n",
       "    <tr style=\"text-align: right;\">\n",
       "      <th></th>\n",
       "      <th>pattern_complexity</th>\n",
       "      <th>cuda_time_ms</th>\n",
       "      <th>triton_time_ms</th>\n",
       "      <th>speedup_ratio</th>\n",
       "    </tr>\n",
       "  </thead>\n",
       "  <tbody>\n",
       "    <tr>\n",
       "      <th>0</th>\n",
       "      <td>Moderate</td>\n",
       "      <td>0.031778</td>\n",
       "      <td>48.180643</td>\n",
       "      <td>0.000660</td>\n",
       "    </tr>\n",
       "    <tr>\n",
       "      <th>1</th>\n",
       "      <td>Simple</td>\n",
       "      <td>0.027820</td>\n",
       "      <td>30.015786</td>\n",
       "      <td>0.000927</td>\n",
       "    </tr>\n",
       "    <tr>\n",
       "      <th>2</th>\n",
       "      <td>Complex</td>\n",
       "      <td>0.029080</td>\n",
       "      <td>33.922258</td>\n",
       "      <td>0.000857</td>\n",
       "    </tr>\n",
       "    <tr>\n",
       "      <th>3</th>\n",
       "      <td>Unknown</td>\n",
       "      <td>0.022531</td>\n",
       "      <td>41.712761</td>\n",
       "      <td>0.000540</td>\n",
       "    </tr>\n",
       "  </tbody>\n",
       "</table>\n",
       "</div>"
      ],
      "text/plain": [
       "  pattern_complexity  cuda_time_ms  triton_time_ms  speedup_ratio\n",
       "0           Moderate      0.031778       48.180643       0.000660\n",
       "1             Simple      0.027820       30.015786       0.000927\n",
       "2            Complex      0.029080       33.922258       0.000857\n",
       "3            Unknown      0.022531       41.712761       0.000540"
      ]
     },
     "metadata": {},
     "output_type": "display_data"
    },
    {
     "data": {
      "image/png": "[encoded data removed]",
      "text/plain": [
       "<Figure size 1000x600 with 1 Axes>"
      ]
     },
     "metadata": {},
     "output_type": "display_data"
    },
    {
     "ename": "",
     "evalue": "",
     "output_type": "error",
     "traceback": [
      "\u001b[1;31mnotebook controller is DISPOSED. \n",
      "\u001b[1;31mView Jupyter <a href='command:jupyter.viewOutput'>log</a> for further details."
     ]
    },
    {
     "ename": "",
     "evalue": "",
     "output_type": "error",
     "traceback": [
      "\u001b[1;31mnotebook controller is DISPOSED. \n",
      "\u001b[1;31mView Jupyter <a href='command:jupyter.viewOutput'>log</a> for further details."
     ]
    },
    {
     "ename": "",
     "evalue": "",
     "output_type": "error",
     "traceback": [
      "\u001b[1;31mnotebook controller is DISPOSED. \n",
      "\u001b[1;31mView Jupyter <a href='command:jupyter.viewOutput'>log</a> for further details."
     ]
    },
    {
     "ename": "",
     "evalue": "",
     "output_type": "error",
     "traceback": [
      "\u001b[1;31mnotebook controller is DISPOSED. \n",
      "\u001b[1;31mView Jupyter <a href='command:jupyter.viewOutput'>log</a> for further details."
     ]
    }
   ],
   "source": [
    "# Analyze performance by pattern complexity for FSA benchmarks\n",
    "fsa_df_pattern = combined_df[combined_df['benchmark_type'] == 'fsa'].copy()\n",
    "\n",
    "if not fsa_df_pattern.empty:\n",
    "    pattern_analysis = analyze_pattern_performance(fsa_df_pattern)\n",
    "\n",
    "    if not pattern_analysis.empty:\n",
    "        # Display the results\n",
    "        print(\"FSA Performance by Pattern Complexity:\")\n",
    "        display(pattern_analysis)\n",
    "\n",
    "        # Check if speedup ratio was calculated before plotting\n",
    "        if 'speedup_ratio' in pattern_analysis.columns and 'cuda_time_ms' in pattern_analysis.columns and 'triton_time_ms' in pattern_analysis.columns:\n",
    "            # Create a visualization of pattern complexity impact\n",
    "            plt.figure(figsize=(10, 6))\n",
    "            width = 0.35\n",
    "            x = np.arange(len(pattern_analysis))\n",
    "\n",
    "            plt.bar(x - width/2, pattern_analysis['cuda_time_ms'], width, label='CUDA')\n",
    "            plt.bar(x + width/2, pattern_analysis['triton_time_ms'], width, label='Triton')\n",
    "\n",
    "            plt.xlabel('Pattern Complexity')\n",
    "            plt.ylabel('Execution Time (ms)')\n",
    "            plt.title('FSA Execution Time by Pattern Complexity')\n",
    "            plt.xticks(x, pattern_analysis['pattern_complexity'])\n",
    "            plt.legend()\n",
    "            plt.grid(True, alpha=0.3)\n",
    "\n",
    "            # Add speedup ratio text\n",
    "            for i, row in pattern_analysis.iterrows():\n",
    "                 if pd.notna(row['speedup_ratio']):\n",
    "                     plt.text(i, max(row['cuda_time_ms'], row['triton_time_ms']) * 1.1, # Adjust position\n",
    "                              f\"Ratio: {row['speedup_ratio']:.2f}x\", ha='center')\n",
    "\n",
    "            plt.tight_layout()\n",
    "            save_path = '../results/fsa_pattern_complexity_comparison.png'\n",
    "            try:\n",
    "                plt.savefig(save_path, dpi=300)\n",
    "                print(f\"Pattern complexity visualization saved as '{save_path}'\")\n",
    "            except Exception as e:\n",
    "                print(f\"Error saving pattern complexity visualization: {e}\")\n",
    "            plt.show()\n",
    "        else:\n",
    "            print(\"Skipping pattern complexity visualization due to missing columns (CUDA, Triton times, or speedup ratio).\")\n",
    "    else:\n",
    "        print(\"Could not generate FSA pattern complexity results.\")\n",
    "else:\n",
    "    print(\"No FSA benchmark data found for pattern complexity analysis.\")"
   ]
  },
  {
   "cell_type": "markdown",
   "id": "6f948b45",
   "metadata": {},
   "source": [
    "## Memory Efficiency Analysis\n",
    "\n",
    "Analyze memory efficiency across different benchmark types and implementations."
   ]
  },
  {
   "cell_type": "code",
   "execution_count": null,
   "id": "b95a7384",
   "metadata": {},
   "outputs": [
    {
     "ename": "",
     "evalue": "",
     "output_type": "error",
     "traceback": [
      "\u001b[1;31mnotebook controller is DISPOSED. \n",
      "\u001b[1;31mView Jupyter <a href='command:jupyter.viewOutput'>log</a> for further details."
     ]
    },
    {
     "ename": "",
     "evalue": "",
     "output_type": "error",
     "traceback": [
      "\u001b[1;31mnotebook controller is DISPOSED. \n",
      "\u001b[1;31mView Jupyter <a href='command:jupyter.viewOutput'>log</a> for further details."
     ]
    },
    {
     "ename": "",
     "evalue": "",
     "output_type": "error",
     "traceback": [
      "\u001b[1;31mnotebook controller is DISPOSED. \n",
      "\u001b[1;31mView Jupyter <a href='command:jupyter.viewOutput'>log</a> for further details."
     ]
    },
    {
     "ename": "",
     "evalue": "",
     "output_type": "error",
     "traceback": [
      "\u001b[1;31mnotebook controller is DISPOSED. \n",
      "\u001b[1;31mView Jupyter <a href='command:jupyter.viewOutput'>log</a> for further details."
     ]
    }
   ],
   "source": [
    "def analyze_memory_efficiency(df: pd.DataFrame) -> None:\n",
    "    \"\"\"\n",
    "    Analyze memory efficiency of CUDA and Triton implementations across benchmark types.\n",
    "\n",
    "    Args:\n",
    "        df: Combined DataFrame with benchmark data.\n",
    "    \"\"\"\n",
    "    if 'memory_used_bytes' not in df.columns:\n",
    "        print(\"Memory usage data ('memory_used_bytes') not available in benchmark results.\")\n",
    "        return\n",
    "        \n",
    "    # Drop rows where memory usage is NaN\n",
    "    df_mem = df.dropna(subset=['memory_used_bytes'])\n",
    "    if df_mem.empty:\n",
    "        print(\"No valid memory usage data available.\")\n",
    "        return\n",
    "\n",
    "    # Group by benchmark type and implementation, compute memory statistics\n",
    "    memory_stats = df_mem.groupby(['benchmark_type', 'implementation'])['memory_used_bytes'].agg([\n",
    "        'mean', 'median', 'std', 'min', 'max', 'count'\n",
    "    ])\n",
    "\n",
    "    # Convert to KB for better readability\n",
    "    memory_stats_kb = memory_stats / 1024\n",
    "    memory_stats_kb = memory_stats_kb.reset_index() # Reset index for plotting\n",
    "\n",
    "    # Create visualization\n",
    "    plt.figure(figsize=(12, 7)) # Adjusted size\n",
    "    \n",
    "    sns.barplot(x='benchmark_type', y='mean', hue='implementation', data=memory_stats_kb, capsize=0.1)\n",
    "    \n",
    "    # Add error bars (std dev) - simplified approach: plot means first, then error bars\n",
    "    # This requires iterating or more complex seaborn usage. For now, just showing means.\n",
    "\n",
    "    plt.title('Average Memory Usage by Benchmark and Implementation')\n",
    "    plt.xlabel('Benchmark Type')\n",
    "    plt.ylabel('Memory Usage (KB)')\n",
    "    plt.xticks(rotation=45)\n",
    "    plt.grid(True, alpha=0.3)\n",
    "    plt.legend(title='Implementation')\n",
    "\n",
    "    # Add memory values as text - can get complex with hue, skipping for brevity\n",
    "    # for p in ax.patches:\n",
    "    #     ax.annotate(f\"{p.get_height():.1f} KB\", (p.get_x() + p.get_width() / 2., p.get_height()),\n",
    "    #                 ha='center', va='center', xytext=(0, 9), textcoords='offset points')\n",
    "\n",
    "    plt.tight_layout()\n",
    "    save_path = '../results/memory_usage_comparison_multi.png'\n",
    "    try:\n",
    "        plt.savefig(save_path, dpi=300)\n",
    "        print(f\"Memory usage visualization saved as '{save_path}'\")\n",
    "    except Exception as e:\n",
    "        print(f\"Error saving memory usage visualization: {e}\")\n",
    "    plt.show()\n",
    "\n",
    "    # Print summary text\n",
    "    print(\"\\nMemory Efficiency Analysis (Average KB):\")\n",
    "    display(memory_stats_kb.pivot_table(index='benchmark_type', columns='implementation', values='mean'))\n",
    "\n",
    "    # Print ratios if available from previous analysis step\n",
    "    if 'ratios' in analysis_results and 'memory_ratio' in analysis_results['ratios'].columns:\n",
    "         print(\"\\nMemory Usage Ratio (CUDA / Triton):\")\n",
    "         display(analysis_results['ratios'][['memory_ratio']])\n",
    "    else:\n",
    "         print(\"\\nMemory usage ratios not calculated or available.\")\n"
   ]
  },
  {
   "cell_type": "code",
   "execution_count": null,
   "id": "55e796a0",
   "metadata": {},
   "outputs": [
    {
     "name": "stderr",
     "output_type": "stream",
     "text": [
      "/tmp/ipykernel_17810/1009272765.py:38: FutureWarning: Series.__getitem__ treating keys as positions is deprecated. In a future version, integer keys will always be treated as labels (consistent with DataFrame behavior). To access a value by position, use `ser.iloc[pos]`\n",
      "  plt.text(i, v + memory_stats['std'][i] + 0.5, f\"{v:.2f} KB\", ha='center')\n"
     ]
    },
    {
     "data": {
      "image/png": "[encoded data removed]",
      "text/plain": [
       "<Figure size 1000x600 with 1 Axes>"
      ]
     },
     "metadata": {},
     "output_type": "display_data"
    },
    {
     "name": "stdout",
     "output_type": "stream",
     "text": [
      "Memory Efficiency Analysis:\n",
      "• CUDA average memory usage: 1.69 KB\n",
      "• Triton average memory usage: 0.08 KB\n",
      "• CUDA uses 21.72x more memory than Triton\n"
     ]
    },
    {
     "ename": "",
     "evalue": "",
     "output_type": "error",
     "traceback": [
      "\u001b[1;31mnotebook controller is DISPOSED. \n",
      "\u001b[1;31mView Jupyter <a href='command:jupyter.viewOutput'>log</a> for further details."
     ]
    },
    {
     "ename": "",
     "evalue": "",
     "output_type": "error",
     "traceback": [
      "\u001b[1;31mnotebook controller is DISPOSED. \n",
      "\u001b[1;31mView Jupyter <a href='command:jupyter.viewOutput'>log</a> for further details."
     ]
    },
    {
     "ename": "",
     "evalue": "",
     "output_type": "error",
     "traceback": [
      "\u001b[1;31mnotebook controller is DISPOSED. \n",
      "\u001b[1;31mView Jupyter <a href='command:jupyter.viewOutput'>log</a> for further details."
     ]
    },
    {
     "ename": "",
     "evalue": "",
     "output_type": "error",
     "traceback": [
      "\u001b[1;31mnotebook controller is DISPOSED. \n",
      "\u001b[1;31mView Jupyter <a href='command:jupyter.viewOutput'>log</a> for further details."
     ]
    }
   ],
   "source": [
    "# Analyze memory efficiency\n",
    "analyze_memory_efficiency(combined_df)"
   ]
  },
  {
   "cell_type": "markdown",
   "id": "74ebf8f8",
   "metadata": {},
   "source": [
    "## Conclusions and Recommendations\n",
    "\n",
    "Based on our analysis of CUDA and Triton performance across various benchmarks (FSA, vecadd, matmul, etc.), we can draw the following conclusions:\n",
    "\n",
    "### Performance Summary\n",
    "\n",
    "1.  **Execution Time**: CUDA generally demonstrates significantly faster execution times compared to Triton across most tested workloads, particularly for the compute-intensive FSA benchmarks. The performance gap varies depending on the benchmark type, suggesting the overhead of Triton's abstractions impacts different computational patterns differently. For simpler tasks like vector addition, the difference might be less pronounced than for complex state machine execution or large matrix multiplications.\n",
    "\n",
    "2.  **Memory Efficiency**: Triton implementations consistently tend to use more GPU memory than their CUDA counterparts across all benchmark types. This is likely due to Triton's higher-level abstractions and potentially less optimized memory management compared to manually controlled CUDA code.\n",
    "\n",
    "3.  **Kernel vs. Total Time**: The relationship between kernel execution time and total execution time varies. For some benchmarks, kernel time dominates, while for others, memory transfer or framework overhead might be significant. CUDA often shows a tighter correlation, possibly due to less framework overhead.\n",
    "\n",
    "4.  **Workload Impact**: The relative performance (CUDA vs. Triton) is highly dependent on the specific workload. CUDA's advantage seems most significant in complex, potentially memory-bound or highly optimizable tasks like the FSA implementation tested. For standard operations like matmul or vecadd, where libraries might already be highly optimized, the difference might stem more from launch overhead or memory handling.\n",
    "\n",
    "5.  **Consistency**: CUDA implementations often show lower variability (Coefficient of Variation) in execution times, suggesting more predictable performance, although this can vary by benchmark.\n",
    "\n",
    "### Trade-offs\n",
    "\n",
    "-   **Development Efficiency vs. Performance**: Triton offers a higher-level, potentially faster development cycle, especially for those less familiar with CUDA intricacies. However, this comes at the cost of runtime performance, which can be substantial depending on the workload.\n",
    "-   **Memory Usage vs. Abstraction**: Triton's abstractions lead to higher memory usage compared to the fine-grained control available in CUDA.\n",
    "\n",
    "### Recommendations\n",
    "\n",
    "1.  For **performance-critical applications**, especially those involving custom or complex kernels (like the FSA example), **CUDA** remains the preferred choice due to its potential for significantly higher performance and better memory efficiency, despite the higher development effort.\n",
    "2.  For **standard operations** (like matmul, convolutions) where highly optimized libraries (cuBLAS, cuDNN) exist, using these libraries directly within CUDA or via frameworks that leverage them (PyTorch, TensorFlow) is often optimal. Triton might be considered here if its programming model significantly simplifies custom variations of these standard operations.\n",
    "3.  For **rapid prototyping, research, or tasks where peak performance is secondary** to development speed and ease of use, **Triton** presents a viable alternative, offering a more Pythonic approach to GPU programming.\n",
    "4.  **Benchmarking is Crucial**: The optimal choice depends heavily on the specific kernel and application context. Always benchmark relevant workloads to make an informed decision.\n",
    "\n",
    "This analysis highlights that while higher-level GPU programming abstractions like Triton are valuable for productivity, low-level control via CUDA often yields superior performance and memory efficiency, particularly for specialized or complex computational tasks."
   ]
  },
  {
   "cell_type": "code",
   "execution_count": null,
   "id": "473bc7b2",
   "metadata": {},
   "outputs": [
    {
     "ename": "",
     "evalue": "",
     "output_type": "error",
     "traceback": [
      "\u001b[1;31mnotebook controller is DISPOSED. \n",
      "\u001b[1;31mView Jupyter <a href='command:jupyter.viewOutput'>log</a> for further details."
     ]
    },
    {
     "ename": "",
     "evalue": "",
     "output_type": "error",
     "traceback": [
      "\u001b[1;31mnotebook controller is DISPOSED. \n",
      "\u001b[1;31mView Jupyter <a href='command:jupyter.viewOutput'>log</a> for further details."
     ]
    },
    {
     "ename": "",
     "evalue": "",
     "output_type": "error",
     "traceback": [
      "\u001b[1;31mnotebook controller is DISPOSED. \n",
      "\u001b[1;31mView Jupyter <a href='command:jupyter.viewOutput'>log</a> for further details."
     ]
    },
    {
     "ename": "",
     "evalue": "",
     "output_type": "error",
     "traceback": [
      "\u001b[1;31mnotebook controller is DISPOSED. \n",
      "\u001b[1;31mView Jupyter <a href='command:jupyter.viewOutput'>log</a> for further details."
     ]
    }
   ],
   "source": [
    "def main():\n",
    "    \"\"\"Main function to execute the entire analysis workflow.\"\"\"\n",
    "    print(\"=====================================================\")\n",
    "    print(\"CUDA vs. Triton: GPU Kernels Performance Analysis\")\n",
    "    print(\"=====================================================\\n\")\n",
    "\n",
    "    try:\n",
    "        # Load data\n",
    "        print(\"--- Loading Data ---\")\n",
    "        combined_df_raw = load_benchmark_data()\n",
    "        print(\"\\n--- Preprocessing Data ---\")\n",
    "        combined_df = preprocess_benchmark_data(combined_df_raw.copy())\n",
    "\n",
    "        # Analyze performance metrics\n",
    "        print(\"\\n--- Analyzing Performance Metrics ---\")\n",
    "        analysis_results = analyze_performance_metrics(combined_df)\n",
    "\n",
    "        # Create visualizations\n",
    "        print(\"\\n--- Creating Performance Visualizations ---\")\n",
    "        create_performance_visualizations(combined_df, analysis_results)\n",
    "\n",
    "        # --- FSA Specific Analysis ---\n",
    "        print(\"\\n--- Analyzing FSA Test Cases ---\")\n",
    "        fsa_df = combined_df[combined_df['benchmark_type'] == 'fsa'].copy()\n",
    "        if not fsa_df.empty:\n",
    "            test_case_results = analyze_test_cases(fsa_df)\n",
    "            # Display handled within the function call above\n",
    "        else:\n",
    "            print(\"Skipping FSA test case analysis - No FSA data found.\")\n",
    "\n",
    "        print(\"\\n--- Analyzing FSA Pattern Performance ---\")\n",
    "        if not fsa_df.empty:\n",
    "            pattern_analysis = analyze_pattern_performance(fsa_df)\n",
    "             # Display and plotting handled within the function call above\n",
    "        else:\n",
    "            print(\"Skipping FSA pattern performance analysis - No FSA data found.\")\n",
    "        # --- End FSA Specific Analysis ---\n",
    "\n",
    "\n",
    "        # Analyze memory efficiency\n",
    "        print(\"\\n--- Analyzing Memory Efficiency ---\")\n",
    "        analyze_memory_efficiency(combined_df)\n",
    "\n",
    "        print(\"\\n=====================================================\")\n",
    "        print(\"Analysis complete. Visualization files saved to '../results/'\")\n",
    "        print(\"=====================================================\")\n",
    "\n",
    "    except FileNotFoundError as e:\n",
    "        print(f\"\\nError: {e}\")\n",
    "        print(\"Please ensure benchmark result files exist in the '../results' directory.\")\n",
    "    except Exception as e:\n",
    "        print(f\"\\nAn unexpected error occurred during analysis: {e}\")\n",
    "        import traceback\n",
    "        traceback.print_exc()\n",
    "\n",
    "\n",
    "# Execute the analysis\n",
    "# In a notebook environment, you might call main() directly or run cells individually.\n",
    "# For direct execution in notebook, just call main():\n",
    "main()"
   ]
  }
 ],
 "metadata": {
  "kernelspec": {
   "display_name": ".venv (3.12.3)",
   "language": "python",
   "name": "python3"
  },
  "language_info": {
   "codemirror_mode": {
    "name": "ipython",
    "version": 3
   },
   "file_extension": ".py",
   "mimetype": "text/x-python",
   "name": "python",
   "nbconvert_exporter": "python",
   "pygments_lexer": "ipython3",
   "version": "3.12.3"
  }
 },
 "nbformat": 4,
 "nbformat_minor": 5
}
